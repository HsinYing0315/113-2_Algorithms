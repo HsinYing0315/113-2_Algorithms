{
  "nbformat": 4,
  "nbformat_minor": 0,
  "metadata": {
    "colab": {
      "provenance": [],
      "toc_visible": true,
      "include_colab_link": true
    },
    "kernelspec": {
      "name": "python3",
      "display_name": "Python 3"
    }
  },
  "cells": [
    {
      "cell_type": "markdown",
      "metadata": {
        "id": "view-in-github",
        "colab_type": "text"
      },
      "source": [
        "<a href=\"https://colab.research.google.com/github/HsinYing0315/113-2_Algorithms/blob/main/0312Algor.ipynb\" target=\"_parent\"><img src=\"https://colab.research.google.com/assets/colab-badge.svg\" alt=\"Open In Colab\"/></a>"
      ]
    },
    {
      "cell_type": "markdown",
      "source": [
        "# Review: 0302 Zuvio"
      ],
      "metadata": {
        "id": "boKRfbLtXFSb"
      }
    },
    {
      "cell_type": "markdown",
      "source": [
        "# Review: Programming Exercise 02"
      ],
      "metadata": {
        "id": "R6r_R_UveHwk"
      }
    },
    {
      "cell_type": "code",
      "source": [
        "class ListNode:\n",
        "    def __init__(self, data:int):\n",
        "        self.data = data\n",
        "        self.next = None\n",
        "    def __iter__(self):\n",
        "        current = self\n",
        "        while current is not None:\n",
        "            yield current # suspend and output current ListNode object\n",
        "            current = current.next\n",
        "\n",
        "def init_list(seq:list)->ListNode:\n",
        "    head = None\n",
        "    for seq_idx,i in enumerate(seq):\n",
        "        if head is None:\n",
        "            head = ListNode(i)\n",
        "            tail = head\n",
        "        elif type(i) is int and i < 0:\n",
        "            for idx,n in enumerate(head):\n",
        "                if idx == seq_idx+i:\n",
        "                    tail.next = n\n",
        "                    break\n",
        "        else:\n",
        "            tail.next = ListNode(i)\n",
        "            tail = tail.next\n",
        "    return head"
      ],
      "metadata": {
        "id": "ex0BOhRqtwPP"
      },
      "execution_count": null,
      "outputs": []
    },
    {
      "cell_type": "code",
      "source": [
        "def has_cycle(head):\n",
        "    turtle = rabbit = head\n",
        "    while rabbit and rabbit.next: #need to fix\"兔子那格有東西 並且 兔子的下一格也有東西\":\n",
        "        turtle = turtle.next # 烏龜一次走一格\n",
        "        rabbit = rabbit.next.next # need to fix 兔子一次跳兩格\n",
        "        if turtle is rabbit: #need to fix\"當烏龜碰到兔子時\":\n",
        "            rabbit = head # 兔子從頭開始\n",
        "            while not rabbit is turtle: #need to fix\"烏龜還沒碰到兔子的話\":\n",
        "                rabbit = rabbit.next # 這次烏龜兔子都一次走一格\n",
        "                turtle = turtle.next\n",
        "            return rabbit.data #need to fix\"傳回烏龜和兔子再次相遇位置的資料\"\n",
        "    return None"
      ],
      "metadata": {
        "id": "QyFF1d3Z36Fk"
      },
      "execution_count": null,
      "outputs": []
    },
    {
      "cell_type": "code",
      "source": [
        "print(has_cycle(init_list([1,2,3,4,5]))) #None\n",
        "print(has_cycle(init_list([1,2,3,4,5,6,7,8,-5]))) #4\n",
        "print(has_cycle(init_list([1]))) #None\n",
        "print(has_cycle(init_list([1,2,3,4,5,6,7,8,9,10,11,12,13,14,15,16,17,18,19,20,-20]))) #1\n",
        "print(has_cycle(init_list([1,2,3,4,5,6,7,8,9,10,11,12,13,14,15,16,17,18,19,20,-1]))) #20\n",
        "print(has_cycle(init_list([3,4,6,9,10,11,19]))) #None\n",
        "print(has_cycle(init_list([3,4,6,9,10,11,19,-4]))) #9\n",
        "print(has_cycle(init_list([8,7,6,5,4,3,2,1,1,1,1]))) #None\n",
        "print(has_cycle(init_list([3,0,1,2,5,8,5,7,9,6,-10]))) #3\n",
        "print(has_cycle(init_list(['Lincoln', 'Jefferson', 'Bush', 'Clinton', 'Bush', 'Obama', 'Trump', -1]))) #Trump"
      ],
      "metadata": {
        "id": "q_EBzh6YtwPS",
        "colab": {
          "base_uri": "https://localhost:8080/"
        },
        "outputId": "da7189c6-1088-4882-9f5b-0819805cc8aa"
      },
      "execution_count": null,
      "outputs": [
        {
          "output_type": "stream",
          "name": "stdout",
          "text": [
            "None\n",
            "4\n",
            "None\n",
            "1\n",
            "20\n",
            "None\n",
            "9\n",
            "None\n",
            "3\n",
            "Trump\n"
          ]
        }
      ]
    },
    {
      "cell_type": "code",
      "metadata": {
        "id": "GJKke4jStwPT"
      },
      "source": [
        "# Hint: magic formula for 3x3 subarray: [(i//3)*3+j//3][(i%3)*3+j%3]\n",
        "def is_valid_sudoku(board:list)->bool:\n",
        "    for i in range(9):\n",
        "        row = [board[i][j] for j in range(9) if board[i][j] != 0] #need to fix \"將第i個Row裡的所有非0值生成list\"\n",
        "        column = [board[j][i] for j in range(9) if board[j][i] != 0] #need to fix \"將第i個Column裡的所有非0值生成list\"\n",
        "        block = [board[(i//3)*3+j//3][(i%3)*3+j%3] for j in range(9) if board[(i//3)*3+j//3][(i%3)*3+j%3] != 0] #need to fix \"將第i個Block裡的所有非0值生成list\"\n",
        "        if len(row) != len(set(row)) or len(column) != len(set(column)) or len(block) != len(set(block)): #need to fix \"block裡有重複值\":\n",
        "            return False\n",
        "    return True"
      ],
      "execution_count": null,
      "outputs": []
    },
    {
      "cell_type": "code",
      "source": [
        "board = \\\n",
        "[[0, 0, 0, 0, 0, 0, 0, 8, 1],\n",
        " [9, 0, 0, 0, 7, 0, 3, 0, 0],\n",
        " [0, 0, 0, 9, 2, 4, 0, 6, 0],\n",
        " [0, 8, 5, 0, 0, 0, 0, 0, 0],\n",
        " [7, 4, 0, 0, 3, 0, 0, 2, 6],\n",
        " [0, 1, 0, 0, 0, 9, 7, 0, 0],\n",
        " [0, 6, 0, 0, 0, 1, 0, 0, 3],\n",
        " [3, 2, 0, 0, 8, 7, 0, 0, 0],\n",
        " [8, 0, 0, 0, 5, 6, 2, 1, 4]]\n",
        "print([board[(0//3)*3+j//3][(0%3)*3+j%3] for j in range(9) if board[(0//3)*3+j//3][(0%3)*3+j%3] != 0])\n",
        "print([board[(1//3)*3+j//3][(1%3)*3+j%3] for j in range(9) if board[(1//3)*3+j//3][(1%3)*3+j%3] != 0])"
      ],
      "metadata": {
        "id": "jW3WfDdaHW3f",
        "colab": {
          "base_uri": "https://localhost:8080/"
        },
        "outputId": "393b7a4a-b859-482e-e3f4-da75a167da0b"
      },
      "execution_count": null,
      "outputs": [
        {
          "output_type": "stream",
          "name": "stdout",
          "text": [
            "[9]\n",
            "[7, 9, 2, 4]\n"
          ]
        }
      ]
    },
    {
      "cell_type": "code",
      "source": [
        "print(is_valid_sudoku(\n",
        "[[0, 0, 0, 0, 0, 0, 0, 8, 1],\n",
        " [9, 0, 0, 0, 7, 0, 3, 0, 0],\n",
        " [0, 0, 0, 9, 2, 4, 0, 6, 0],\n",
        " [0, 8, 5, 0, 0, 0, 0, 0, 0],\n",
        " [7, 4, 0, 0, 3, 0, 0, 2, 6],\n",
        " [0, 1, 0, 0, 0, 9, 7, 0, 0],\n",
        " [0, 6, 0, 0, 0, 1, 0, 0, 3],\n",
        " [3, 2, 0, 0, 8, 7, 0, 0, 0],\n",
        " [8, 0, 0, 0, 5, 6, 2, 1, 4]])) #True"
      ],
      "metadata": {
        "id": "XQxevxWRfrD9",
        "colab": {
          "base_uri": "https://localhost:8080/"
        },
        "outputId": "b7b385c8-cbcc-4761-aada-b0df65f4d498"
      },
      "execution_count": null,
      "outputs": [
        {
          "output_type": "stream",
          "name": "stdout",
          "text": [
            "True\n"
          ]
        }
      ]
    },
    {
      "cell_type": "code",
      "metadata": {
        "id": "IFkhOMxNtwPY",
        "colab": {
          "base_uri": "https://localhost:8080/"
        },
        "outputId": "08d33d84-c354-40a0-fde1-d69e52359aad"
      },
      "source": [
        "print(is_valid_sudoku(\n",
        "[[0, 0, 0, 0, 0, 0, 0, 8, 1],\n",
        " [9, 0, 0, 0, 7, 0, 3, 0, 0],\n",
        " [0, 0, 0, 9, 2, 4, 0, 6, 0],\n",
        " [0, 8, 5, 0, 0, 0, 0, 0, 0],\n",
        " [7, 4, 0, 0, 3, 0, 0, 2, 6],\n",
        " [0, 1, 0, 0, 0, 9, 7, 0, 0],\n",
        " [0, 6, 0, 0, 0, 1, 0, 0, 3],\n",
        " [3, 2, 0, 0, 8, 7, 0, 0, 0],\n",
        " [8, 0, 0, 0, 5, 6, 2, 1, 4]])) #True\n",
        "print(is_valid_sudoku(\n",
        "[[0, 0, 0, 0, 0, 0, 0, 0, 0],\n",
        " [0, 0, 0, 0, 0, 0, 1, 0, 0],\n",
        " [0, 0, 0, 0, 7, 0, 0, 0, 0],\n",
        " [8, 0, 7, 0, 0, 0, 0, 0, 4],\n",
        " [0, 0, 3, 0, 5, 4, 0, 0, 0],\n",
        " [0, 0, 1, 0, 0, 0, 3, 4, 0],\n",
        " [0, 0, 8, 0, 0, 0, 0, 0, 0],\n",
        " [0, 0, 0, 0, 4, 2, 0, 0, 6],\n",
        " [0, 0, 0, 0, 0, 0, 0, 0, 3]])) #False\n",
        "print(is_valid_sudoku(\n",
        "[[4, 2, 9, 5, 3, 7, 1, 8, 6],\n",
        " [3, 8, 6, 2, 1, 4, 7, 9, 5],\n",
        " [1, 5, 7, 6, 9, 8, 2, 4, 3],\n",
        " [7, 9, 2, 1, 8, 6, 3, 5, 4],\n",
        " [8, 1, 5, 3, 4, 9, 6, 2, 7],\n",
        " [6, 4, 3, 7, 5, 2, 8, 1, 9],\n",
        " [9, 6, 1, 4, 2, 3, 5, 7, 8],\n",
        " [5, 3, 8, 9, 7, 1, 4, 6, 2],\n",
        " [2, 7, 4, 8, 6, 5, 9, 3, 1]])) #True\n",
        "print(is_valid_sudoku(\n",
        "[[4, 2, 9, 5, 3, 7, 1, 8, 6],\n",
        " [3, 8, 6, 2, 1, 4, 7, 9, 5],\n",
        " [1, 5, 7, 6, 9, 8, 2, 4, 3],\n",
        " [7, 9, 2, 1, 3, 6, 3, 5, 4],\n",
        " [8, 1, 5, 3, 4, 9, 6, 2, 7],\n",
        " [6, 4, 3, 7, 5, 2, 8, 1, 9],\n",
        " [9, 6, 1, 4, 2, 3, 5, 7, 8],\n",
        " [5, 3, 8, 9, 7, 1, 4, 6, 2],\n",
        " [2, 7, 4, 8, 6, 5, 9, 3, 1]])) #False\n",
        "print(is_valid_sudoku(\n",
        "[[0, 0, 0, 0, 0, 0, 3, 0, 4],\n",
        " [0, 0, 0, 1, 0, 9, 8, 0, 0],\n",
        " [0, 8, 0, 0, 5, 0, 0, 9, 7],\n",
        " [0, 0, 5, 0, 0, 8, 7, 0, 2],\n",
        " [1, 7, 0, 5, 0, 2, 0, 0, 0],\n",
        " [9, 0, 6, 0, 0, 4, 0, 0, 0],\n",
        " [6, 3, 0, 0, 9, 0, 0, 0, 1],\n",
        " [0, 1, 0, 0, 2, 0, 5, 0, 9],\n",
        " [0, 0, 4, 7, 3, 0, 0, 0, 6]])) #True"
      ],
      "execution_count": null,
      "outputs": [
        {
          "output_type": "stream",
          "name": "stdout",
          "text": [
            "True\n",
            "False\n",
            "True\n",
            "False\n",
            "True\n"
          ]
        }
      ]
    },
    {
      "cell_type": "markdown",
      "source": [
        "# Binary Search Trees(二元搜尋樹)"
      ],
      "metadata": {
        "id": "r3BOA_z1-hpV"
      }
    },
    {
      "cell_type": "code",
      "source": [
        "class BinaryTreeNode:\n",
        "    def __init__(self, data):\n",
        "        self.data = data\n",
        "        self.parent = None\n",
        "        self.left = None\n",
        "        self.right = None\n",
        "    def search_tree(self, key):\n",
        "        if self.data == key:\n",
        "            return self\n",
        "        if key < self.data:\n",
        "            if self.left:\n",
        "                return self.left.search_tree(key)\n",
        "        else:\n",
        "            if self.right:\n",
        "                return self.right.search_tree(key)\n",
        "        return None\n",
        "    def insert_tree(self, new_node):\n",
        "        if self.data > new_node.data:\n",
        "            if self.left is None:\n",
        "                self.left = new_node\n",
        "                new_node.parent = self\n",
        "            else:\n",
        "                self.left.insert_tree(new_node)\n",
        "        else:\n",
        "            if self.right is None:\n",
        "                self.right = new_node\n",
        "                new_node.parent = self\n",
        "            else:\n",
        "                self.right.insert_tree(new_node)\n",
        "    def find_minimum(self):\n",
        "        min_node = self\n",
        "        while min_node.left:\n",
        "            min_node = min_node.left\n",
        "        return min_node\n",
        "    def tree_traversal(self): #inorder\n",
        "        if self.left:\n",
        "            self.left.tree_traversal()\n",
        "        print(self.data, end=' ')\n",
        "        if self.right:\n",
        "            self.right.tree_traversal()\n",
        "    def create(self, sequence, index): #create tree from list sequence\n",
        "        if index >= len(sequence) or sequence[index] == None:   # 作為遞迴呼叫的出口條件\n",
        "            return None\n",
        "        else:\n",
        "            tempNode = BinaryTreeNode(sequence[index])\n",
        "            # 建立左子樹\n",
        "            tempNode.left = self.create(sequence, 2*index+1)\n",
        "            # 建立右子樹\n",
        "            tempNode.right = self.create(sequence, 2*index+2)\n",
        "            tempNode.parent = self\n",
        "            return tempNode"
      ],
      "metadata": {
        "id": "2GwU_GqC-iwJ"
      },
      "execution_count": null,
      "outputs": []
    },
    {
      "cell_type": "markdown",
      "source": [
        "```\n",
        "# cannot run on colab\n",
        "from turtle import *\n",
        "shape('turtle')\n",
        "\n",
        "def draw_node(x,y,text):\n",
        "    up()\n",
        "    goto(x-8,y-15)\n",
        "    down()\n",
        "    write(text, font=(\"Arial\", 20, \"bold\"))\n",
        "    up()\n",
        "    goto(x,y-20)\n",
        "    down()\n",
        "    seth(0)\n",
        "    circle(20)\n",
        "    up()\n",
        "    goto(x,y)\n",
        "    down()\n",
        "\n",
        "def draw_edge(x, y, left, level):\n",
        "    up()\n",
        "    goto(x,y-20)\n",
        "    seth(0)\n",
        "    if left:\n",
        "        circle(20,-45)\n",
        "        seth(225)\n",
        "    else:\n",
        "        circle(20,45)\n",
        "        seth(-45)\n",
        "    down()\n",
        "    fd(round(128/2**(level if level < 3 else 2)*1.4)-25)\n",
        "    seth(0)\n",
        "\n",
        "def draw_tree(root, x, y):\n",
        "    draw_node(x, y, root.data)\n",
        "    if root.left:\n",
        "        draw_edge(x, y, True)\n",
        "        draw_tree(root.left,x-40,y-55)\n",
        "    if root.right:\n",
        "        draw_edge(x, y, False)\n",
        "        draw_tree(root.right,x+40,y-55)\n",
        "\n",
        "def draw_edge2(x, y, left, level):\n",
        "    up()\n",
        "    goto(x,y-20)\n",
        "    seth(0)\n",
        "    if left:\n",
        "        circle(20,-45)\n",
        "        seth(225)\n",
        "    else:\n",
        "        circle(20,45)\n",
        "        seth(-45)\n",
        "    down()\n",
        "    fd(round(128/2**(level if level < 3 else 2)*1.4)-25)\n",
        "    seth(0)\n",
        "\n",
        "def draw_tree2(root, x, y, level=0):\n",
        "    draw_node(x, y, root.data)\n",
        "    if root.left:\n",
        "        draw_edge2(x, y, True, level)\n",
        "        draw_tree2(root.left, x-int(128/2**(level if level < 3 else 2))*1-10,y-int(128/2**(level if level < 3 else 2))*1-10,level+1)\n",
        "    if root.right:\n",
        "        draw_edge2(x, y, False, level)\n",
        "        draw_tree2(root.right, x+int(128/2**(level if level < 3 else 2))*1+10,y-int(128/2**(level if level < 3 else 2))*1-10,level+1)\n",
        "```\n",
        "\n"
      ],
      "metadata": {
        "id": "K57dOxDbFKaD"
      }
    },
    {
      "cell_type": "code",
      "source": [
        "# 在colab上，此cell指令執行一次即可\n",
        "!pip install ColabTurtlePlus"
      ],
      "metadata": {
        "id": "VwN1m-s9GgoG",
        "colab": {
          "base_uri": "https://localhost:8080/"
        },
        "outputId": "19de97c9-5f09-4e9e-d622-d70f34df8d85"
      },
      "execution_count": null,
      "outputs": [
        {
          "output_type": "stream",
          "name": "stdout",
          "text": [
            "Collecting ColabTurtlePlus\n",
            "  Downloading ColabTurtlePlus-2.0.1-py3-none-any.whl.metadata (10 kB)\n",
            "Downloading ColabTurtlePlus-2.0.1-py3-none-any.whl (31 kB)\n",
            "Installing collected packages: ColabTurtlePlus\n",
            "Successfully installed ColabTurtlePlus-2.0.1\n"
          ]
        }
      ]
    },
    {
      "cell_type": "code",
      "source": [
        "# fixed version for colab\n",
        "\n",
        "from ColabTurtlePlus.Turtle import *\n",
        "import math\n",
        "\n",
        "def draw_node(x,y,text):\n",
        "    up()\n",
        "    #goto(x-8,y-15)\n",
        "    goto(x-len(str(text))*7,y-7)\n",
        "    down()\n",
        "    write(text, font=(\"Arial\", 20, \"bold\"))\n",
        "    up()\n",
        "    goto(x,y-20)\n",
        "    down()\n",
        "    seth(0)\n",
        "    circle(20)\n",
        "    up()\n",
        "    goto(x,y)\n",
        "    down()\n",
        "\n",
        "def draw_edge(x, y, left):\n",
        "    up()\n",
        "    #goto(x,y-20)\n",
        "    #seth(0)\n",
        "    if left:\n",
        "        #circle(20,-45)\n",
        "        goto(x+math.cos(math.radians(225))*20,y+math.cos(math.radians(225))*20)\n",
        "        seth(225)\n",
        "    else:\n",
        "        #circle(20,45)\n",
        "        goto(x+math.cos(math.radians(-45))*20,y-math.cos(math.radians(-45))*20)\n",
        "        seth(-45)\n",
        "    down()\n",
        "    fd(30)\n",
        "    seth(0)\n",
        "\n",
        "def draw_tree(root, x, y):\n",
        "    draw_node(x, y, root.data)\n",
        "    if root.left:\n",
        "        draw_edge(x, y, True)\n",
        "        draw_tree(root.left,x-40,y-55)\n",
        "    if root.right:\n",
        "        draw_edge(x, y, False)\n",
        "        draw_tree(root.right,x+40,y-55)"
      ],
      "metadata": {
        "id": "ADLD9jETCrif",
        "colab": {
          "base_uri": "https://localhost:8080/"
        },
        "outputId": "8e96e98b-2ab6-467c-93cd-508a4e0ae0b7"
      },
      "execution_count": null,
      "outputs": [
        {
          "output_type": "stream",
          "name": "stdout",
          "text": [
            "Put clearscreen() as the first line in a cell (after the import command) to re-run turtle commands in the cell\n"
          ]
        }
      ]
    },
    {
      "cell_type": "code",
      "source": [
        "clearscreen()\n",
        "setup(600,600)\n",
        "shape('turtle')\n",
        "\n",
        "chars='HAFBDGCE'\n",
        "root = None\n",
        "for c in chars:\n",
        "    if root is None:\n",
        "        root = BinaryTreeNode(c)\n",
        "    else:\n",
        "        root.insert_tree(BinaryTreeNode(c))\n",
        "\n",
        "root.tree_traversal()\n",
        "print()\n",
        "print(root.find_minimum().data)\n",
        "\n",
        "x,y = 0,240\n",
        "draw_tree(root, x, y)\n",
        "\n",
        "hideturtle()\n",
        "#exitonclick()\n",
        "done()"
      ],
      "metadata": {
        "id": "Ln7NlxinGa9n",
        "colab": {
          "base_uri": "https://localhost:8080/",
          "height": 656
        },
        "outputId": "c20b3de1-0ab5-4d4e-f5f0-8c4c42ecab25"
      },
      "execution_count": null,
      "outputs": [
        {
          "output_type": "display_data",
          "data": {
            "text/plain": [
              "<IPython.core.display.HTML object>"
            ],
            "text/html": [
              "\n",
              "      <svg width=\"600\" height=\"600\">  \n",
              "        <rect width=\"100%\" height=\"100%\" style=\"fill:white;stroke:;stroke-width:1\"/>\n",
              "        \n",
              "        \n",
              "        <text x=\"293.0\" y=\"67.0\" fill=\"black\" text-anchor=\"start\" style=\"font-size:20px;font-family:'Arial';font-weight:bold;\">H</text><path d=\"M 300.0 80.0 A 20 20 0 0 0 300.0 40.0\" stroke-linecap=\"round\" \n",
              "            fill=\"transparent\" fill-opacity=\"0\" style=\"stroke:black;stroke-width:1\"/><path d=\"M 300.0 40.0 A 20 20 0 0 0 300.0 80.0\" stroke-linecap=\"round\" \n",
              "            fill=\"transparent\" fill-opacity=\"0\" style=\"stroke:black;stroke-width:1\"/><line x1=\"285.858\" y1=\"74.142\" x2=\"264.645\" y2=\"95.355\" stroke-linecap=\"round\" style=\"stroke:black;stroke-width:1\" /><text x=\"253.0\" y=\"122.0\" fill=\"black\" text-anchor=\"start\" style=\"font-size:20px;font-family:'Arial';font-weight:bold;\">A</text><path d=\"M 260.0 135.0 A 20 20 0 0 0 260.0 95.0\" stroke-linecap=\"round\" \n",
              "            fill=\"transparent\" fill-opacity=\"0\" style=\"stroke:black;stroke-width:1\"/><path d=\"M 260.0 95.0 A 20 20 0 0 0 260.0 135.0\" stroke-linecap=\"round\" \n",
              "            fill=\"transparent\" fill-opacity=\"0\" style=\"stroke:black;stroke-width:1\"/><line x1=\"274.142\" y1=\"129.142\" x2=\"295.355\" y2=\"150.355\" stroke-linecap=\"round\" style=\"stroke:black;stroke-width:1\" /><text x=\"293.0\" y=\"177.0\" fill=\"black\" text-anchor=\"start\" style=\"font-size:20px;font-family:'Arial';font-weight:bold;\">F</text><path d=\"M 300.0 190.0 A 20 20 0 0 0 300.0 150.0\" stroke-linecap=\"round\" \n",
              "            fill=\"transparent\" fill-opacity=\"0\" style=\"stroke:black;stroke-width:1\"/><path d=\"M 300.0 150.0 A 20 20 0 0 0 300.0 190.0\" stroke-linecap=\"round\" \n",
              "            fill=\"transparent\" fill-opacity=\"0\" style=\"stroke:black;stroke-width:1\"/><line x1=\"285.858\" y1=\"184.142\" x2=\"264.645\" y2=\"205.355\" stroke-linecap=\"round\" style=\"stroke:black;stroke-width:1\" /><text x=\"253.0\" y=\"232.0\" fill=\"black\" text-anchor=\"start\" style=\"font-size:20px;font-family:'Arial';font-weight:bold;\">B</text><path d=\"M 260.0 245.0 A 20 20 0 0 0 260.0 205.0\" stroke-linecap=\"round\" \n",
              "            fill=\"transparent\" fill-opacity=\"0\" style=\"stroke:black;stroke-width:1\"/><path d=\"M 260.0 205.0 A 20 20 0 0 0 260.0 245.0\" stroke-linecap=\"round\" \n",
              "            fill=\"transparent\" fill-opacity=\"0\" style=\"stroke:black;stroke-width:1\"/><line x1=\"274.142\" y1=\"239.142\" x2=\"295.355\" y2=\"260.355\" stroke-linecap=\"round\" style=\"stroke:black;stroke-width:1\" /><text x=\"293.0\" y=\"287.0\" fill=\"black\" text-anchor=\"start\" style=\"font-size:20px;font-family:'Arial';font-weight:bold;\">D</text><path d=\"M 300.0 300.0 A 20 20 0 0 0 300.0 260.0\" stroke-linecap=\"round\" \n",
              "            fill=\"transparent\" fill-opacity=\"0\" style=\"stroke:black;stroke-width:1\"/><path d=\"M 300.0 260.0 A 20 20 0 0 0 300.0 300.0\" stroke-linecap=\"round\" \n",
              "            fill=\"transparent\" fill-opacity=\"0\" style=\"stroke:black;stroke-width:1\"/><line x1=\"285.858\" y1=\"294.142\" x2=\"264.645\" y2=\"315.355\" stroke-linecap=\"round\" style=\"stroke:black;stroke-width:1\" /><text x=\"253.0\" y=\"342.0\" fill=\"black\" text-anchor=\"start\" style=\"font-size:20px;font-family:'Arial';font-weight:bold;\">C</text><path d=\"M 260.0 355.0 A 20 20 0 0 0 260.0 315.0\" stroke-linecap=\"round\" \n",
              "            fill=\"transparent\" fill-opacity=\"0\" style=\"stroke:black;stroke-width:1\"/><path d=\"M 260.0 315.0 A 20 20 0 0 0 260.0 355.0\" stroke-linecap=\"round\" \n",
              "            fill=\"transparent\" fill-opacity=\"0\" style=\"stroke:black;stroke-width:1\"/><line x1=\"314.142\" y1=\"294.142\" x2=\"335.355\" y2=\"315.355\" stroke-linecap=\"round\" style=\"stroke:black;stroke-width:1\" /><text x=\"333.0\" y=\"342.0\" fill=\"black\" text-anchor=\"start\" style=\"font-size:20px;font-family:'Arial';font-weight:bold;\">E</text><path d=\"M 340.0 355.0 A 20 20 0 0 0 340.0 315.0\" stroke-linecap=\"round\" \n",
              "            fill=\"transparent\" fill-opacity=\"0\" style=\"stroke:black;stroke-width:1\"/><path d=\"M 340.0 315.0 A 20 20 0 0 0 340.0 355.0\" stroke-linecap=\"round\" \n",
              "            fill=\"transparent\" fill-opacity=\"0\" style=\"stroke:black;stroke-width:1\"/><line x1=\"314.142\" y1=\"184.142\" x2=\"335.355\" y2=\"205.355\" stroke-linecap=\"round\" style=\"stroke:black;stroke-width:1\" /><text x=\"333.0\" y=\"232.0\" fill=\"black\" text-anchor=\"start\" style=\"font-size:20px;font-family:'Arial';font-weight:bold;\">G</text><path d=\"M 340.0 245.0 A 20 20 0 0 0 340.0 205.0\" stroke-linecap=\"round\" \n",
              "            fill=\"transparent\" fill-opacity=\"0\" style=\"stroke:black;stroke-width:1\"/><path d=\"M 340.0 205.0 A 20 20 0 0 0 340.0 245.0\" stroke-linecap=\"round\" \n",
              "            fill=\"transparent\" fill-opacity=\"0\" style=\"stroke:black;stroke-width:1\"/>\n",
              "        \n",
              "        \n",
              "        <g id=\"turtle\" visibility=\"hidden\" transform=\"rotate(90.0,340.0,225.0) translate(340.0, 225.0)\">\n",
              "<path style=\"stroke:black;fill-rule:evenodd;fill:black;fill-opacity:1;\" transform=\"skewX(0) scale(1,1)\" d=\"m 1.1536693,-18.56101 c -2.105469,1.167969 -3.203125,3.441407 -3.140625,6.5 l 0.011719,0.519532 -0.300782,-0.15625 c -1.308594,-0.671875 -2.828125,-0.824219 -4.378906,-0.429688 -1.9375,0.484375 -3.8906253,2.089844 -6.0117193,4.9257825 -1.332031,1.785156 -1.714843,2.644531 -1.351562,3.035156 l 0.113281,0.125 h 0.363281 c 0.71875,0 1.308594,-0.265625 4.6679693,-2.113282 1.199219,-0.660156 2.183594,-1.199218 2.191406,-1.199218 0.00781,0 -0.023437,0.089844 -0.074218,0.195312 -0.472657,1.058594 -1.046876,2.785156 -1.335938,4.042969 -1.054688,4.574219 -0.351562,8.453125 2.101562,11.582031 0.28125,0.355469 0.292969,0.253906 -0.097656,0.722656 -2.046875,2.4609375 -3.027344,4.8984375 -2.734375,6.8046875 0.050781,0.339844 0.042969,0.335938 0.679688,0.335938 2.023437,0 4.15625,-1.316407 6.21875,-3.835938 0.222656,-0.269531 0.191406,-0.261719 0.425781,-0.113281 0.730469,0.46875 2.460938,1.390625 2.613281,1.390625 0.160157,0 1.765625,-0.753906 2.652344,-1.246094 0.167969,-0.09375 0.308594,-0.164062 0.308594,-0.160156 0.066406,0.105468 0.761719,0.855468 1.085937,1.171875 1.613282,1.570312 3.339844,2.402343 5.3593747,2.570312 0.324219,0.02734 0.355469,0.0078 0.425781,-0.316406 0.375,-1.742187 -0.382812,-4.058594 -2.1445307,-6.5585935 l -0.320312,-0.457031 0.15625,-0.183594 c 3.2460927,-3.824218 3.4335927,-9.08593704 0.558593,-15.816406 l -0.050781,-0.125 1.7382807,0.859375 c 3.585938,1.773437 4.371094,2.097656 5.085938,2.097656 0.945312,0 0.75,-0.863281 -0.558594,-2.507812 C 11.458356,-11.838353 8.3333563,-13.268041 4.8607003,-11.721166 l -0.363281,0.164063 0.019531,-0.09375 c 0.121094,-0.550781 0.183594,-1.800781 0.121094,-2.378907 -0.203125,-1.867187 -1.035157,-3.199218 -2.695313,-4.308593 -0.523437,-0.351563 -0.546875,-0.355469 -0.789062,-0.222657\" />\n",
              "</g>\n",
              "      </svg>\n",
              "    "
            ]
          },
          "metadata": {}
        },
        {
          "output_type": "stream",
          "name": "stdout",
          "text": [
            "A B C D E F G H \n",
            "A\n"
          ]
        }
      ]
    },
    {
      "cell_type": "code",
      "source": [
        "#version 2\n",
        "from ColabTurtlePlus.Turtle import *\n",
        "import math\n",
        "\n",
        "def draw_node(x,y,text):\n",
        "    up()\n",
        "    #goto(x-8,y-15)\n",
        "    goto(x-len(str(text))*7,y-7)\n",
        "    down()\n",
        "    write(text, font=(\"Arial\", 20, \"bold\"))\n",
        "    up()\n",
        "    goto(x,y-20)\n",
        "    down()\n",
        "    seth(0)\n",
        "    circle(20)\n",
        "    up()\n",
        "    goto(x,y)\n",
        "    down()\n",
        "\n",
        "def draw_edge2(x, y, left, level):\n",
        "    up()\n",
        "    #goto(x,y-20)\n",
        "    #seth(0)\n",
        "    if left:\n",
        "        #circle(20,-45)\n",
        "        goto(x+math.cos(math.radians(225))*20,y+math.cos(math.radians(225))*20)\n",
        "        seth(225)\n",
        "    else:\n",
        "        #circle(20,45)\n",
        "        goto(x+math.cos(math.radians(-45))*20,y-math.cos(math.radians(-45))*20)\n",
        "        seth(-45)\n",
        "    down()\n",
        "    fd(round(128/2**(level if level < 3 else 2)*1.4)-25)\n",
        "    seth(0)\n",
        "\n",
        "def draw_tree2(root, x, y, level=0):\n",
        "    draw_node(x, y, root.data)\n",
        "    if root.left:\n",
        "        draw_edge2(x, y, True, level)\n",
        "        draw_tree2(root.left, x-int(128/2**(level if level < 3 else 2))*1-10,y-int(128/2**(level if level < 3 else 2))*1-10,level+1)\n",
        "    if root.right:\n",
        "        draw_edge2(x, y, False, level)\n",
        "        draw_tree2(root.right, x+int(128/2**(level if level < 3 else 2))*1+10,y-int(128/2**(level if level < 3 else 2))*1-10,level+1)"
      ],
      "metadata": {
        "id": "CoKJ7MeqIWmA"
      },
      "execution_count": null,
      "outputs": []
    },
    {
      "cell_type": "code",
      "source": [
        "clearscreen()\n",
        "setup(600,600)\n",
        "shape('turtle')\n",
        "\n",
        "nums = [26,5,77,19,13,2,55,49]\n",
        "#nums = [5, 7, 23, 28, 33, 42]\n",
        "root = None\n",
        "for c in nums:\n",
        "    if root is None:\n",
        "        root = BinaryTreeNode(c)\n",
        "    else:\n",
        "        root.insert_tree(BinaryTreeNode(c))\n",
        "\n",
        "root.tree_traversal()\n",
        "print()\n",
        "print(root.find_minimum().data)\n",
        "\n",
        "#sequence=[\"+\",\"*\",\"D\",\"A\",\"-\",None,None,None,None,\"B\",\"C\"]\n",
        "#sequence=[\"+\",\"*\",\"%\",6,3,9,5]\n",
        "#sequence=[4,2,7,1,3,6,9]\n",
        "#sequence=[4,7,2,9,6,3,1]\n",
        "#sequence=[3,1,6,None,None,4,7]\n",
        "#sequence=[1,2,None,3,None,None,None,4,None,None,None,None,None,None,None,5]\n",
        "#sequence=[1,None,2,None,None,None,3,None,None,None,None,None,None,None,4,None,None,None,None,None,None,None,None,None,None,None,None,None,None,None,5]\n",
        "#sequence=[1,3,None,2,5,None,None,None,None,4,6]\n",
        "#sequence=[1,None,3,None,None,5,2,None,None,None,None,6,4]\n",
        "#sequence = ['+','+','+','*','%','/','*','1','2','3','2','6','3','2','2' ]\n",
        "#root=BinaryTreeNode(None).create(sequence,0)\n",
        "#root.tree_traversal()\n",
        "x,y = 0,240\n",
        "draw_tree2(root, x, y)\n",
        "hideturtle()\n",
        "#exitonclick()\n",
        "done()"
      ],
      "metadata": {
        "id": "L8GBJndqRNN6"
      },
      "execution_count": null,
      "outputs": []
    },
    {
      "cell_type": "code",
      "source": [],
      "metadata": {
        "id": "E_NtbzstzQ8l"
      },
      "execution_count": null,
      "outputs": []
    }
  ]
}