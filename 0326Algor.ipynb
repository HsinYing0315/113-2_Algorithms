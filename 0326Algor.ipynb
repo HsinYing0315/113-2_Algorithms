{
  "nbformat": 4,
  "nbformat_minor": 0,
  "metadata": {
    "colab": {
      "provenance": [],
      "toc_visible": true,
      "include_colab_link": true
    },
    "kernelspec": {
      "name": "python3",
      "display_name": "Python 3"
    }
  },
  "cells": [
    {
      "cell_type": "markdown",
      "metadata": {
        "id": "view-in-github",
        "colab_type": "text"
      },
      "source": [
        "<a href=\"https://colab.research.google.com/github/HsinYing0315/113-2_Algorithms/blob/main/0326Algor.ipynb\" target=\"_parent\"><img src=\"https://colab.research.google.com/assets/colab-badge.svg\" alt=\"Open In Colab\"/></a>"
      ]
    },
    {
      "cell_type": "markdown",
      "source": [
        "# Review: 0319 Zuvio"
      ],
      "metadata": {
        "id": "boKRfbLtXFSb"
      }
    },
    {
      "cell_type": "markdown",
      "source": [
        "# Review: Programming Exercise 04"
      ],
      "metadata": {
        "id": "R6r_R_UveHwk"
      }
    },
    {
      "cell_type": "code",
      "source": [
        "def merge_two_sorted_arrays(nums1: list, m: int, nums2: list, n: int):\n",
        "    \"\"\"\n",
        "    將兩個已排序的陣列 nums1 和 nums2 合併到 nums1 中。\n",
        "\n",
        "    Args:\n",
        "        nums1: 第一個已排序的陣列，長度為 m + n，其中前 m 個元素是有效的，後 n 個元素為 None。\n",
        "        m: nums1 中有效元素的數量。\n",
        "        nums2: 第二個已排序的陣列，長度為 n。\n",
        "        n: nums2 的長度。\n",
        "\n",
        "    Returns:\n",
        "        此函式不回傳任何值，它直接修改 nums1。\n",
        "    \"\"\"\n",
        "\n",
        "    # 分別指向 nums1 和 nums2 有效部分的尾端\n",
        "    end1 = m - 1  # need fix\n",
        "    end2 = n - 1  # need fix\n",
        "\n",
        "    # 指向 nums1 的寫入位置（從尾端開始）\n",
        "    write_idx = m + n - 1 # need fix\n",
        "\n",
        "    # 從兩個陣列的尾端開始比較，將較大的元素放到 nums1 的寫入位置\n",
        "    while end1 >= 0 and end2 >= 0:\n",
        "        if nums1[end1] > nums2[end2]:\n",
        "            nums1[write_idx] = nums1[end1] # need fix\n",
        "            end1 -= 1  # nums1 的指標往前移\n",
        "        else:\n",
        "            nums1[write_idx] = nums2[end2] # need fix\n",
        "            end2 -= 1  # nums2 的指標往前移\n",
        "        write_idx -= 1  # 寫入位置往前移\n",
        "\n",
        "    # 如果 nums2 還有剩餘元素，將它們複製到 nums1 的開頭\n",
        "    while end2 >= 0:\n",
        "        nums1[write_idx] = nums2[end2]\n",
        "        end2 -= 1\n",
        "        write_idx -= 1\n"
      ],
      "metadata": {
        "id": "4Zl-iv-cmJmf"
      },
      "execution_count": null,
      "outputs": []
    },
    {
      "cell_type": "code",
      "source": [
        "nums1 = [5,13,17,None,None,None,None,None]\n",
        "merge_two_sorted_arrays(nums1, 3, [3,7,11,19], 4)\n",
        "print(nums1[:7]) #[3, 5, 7, 11, 13, 17, 19]\n",
        "nums1 = [-1,None,None,None,None,None,None]\n",
        "merge_two_sorted_arrays(nums1, 1, [-3,-1,0,3], 4)\n",
        "print(nums1[:5]) #[-3, -1, -1, 0, 3]\n",
        "nums1 = [-4,1,1,2]\n",
        "merge_two_sorted_arrays(nums1, 4, [], 0)\n",
        "print(nums1[:4]) #[-4, 1, 1, 2]\n",
        "nums1 = [None,None,None,None,None,None,None,None,None,None,None,None,None]\n",
        "merge_two_sorted_arrays(nums1, 0, [-13,-12,-12,-7,-1,2,5,6,6,13], 10)\n",
        "print(nums1[:10]) #[-13, -12, -12, -7, -1, 2, 5, 6, 6, 13]\n",
        "nums1 = [0,0,None,None,None,None,None,None]\n",
        "merge_two_sorted_arrays(nums1, 2, [-5, -5, 1, 2, 4, 5], 6)\n",
        "print(nums1[:8]) #[-5, -5, 0, 0, 1, 2, 4, 5]"
      ],
      "metadata": {
        "id": "7h1pebkC5b9t",
        "colab": {
          "base_uri": "https://localhost:8080/"
        },
        "outputId": "ec425f48-0d13-428f-c67c-7c79e232daa2"
      },
      "execution_count": null,
      "outputs": [
        {
          "output_type": "stream",
          "name": "stdout",
          "text": [
            "[3, 5, 7, 11, 13, 17, 19]\n",
            "[-3, -1, -1, 0, 3]\n",
            "[-4, 1, 1, 2]\n",
            "[-13, -12, -12, -7, -1, 2, 5, 6, 6, 13]\n",
            "[-5, -5, 0, 0, 1, 2, 4, 5]\n"
          ]
        }
      ]
    },
    {
      "cell_type": "code",
      "source": [
        "import heapq\n",
        "# version 1: O(n log k)\n",
        "def find_closest_elements(arr, k, x):\n",
        "    \"\"\"\n",
        "    在一個已排序的整數陣列 arr 中，找出 k 個最接近 x 的元素。\n",
        "\n",
        "    Args:\n",
        "        arr: 已排序的整數陣列。\n",
        "        k: 要找出的最接近元素的數量。\n",
        "        x: 目標值。\n",
        "\n",
        "    Returns:\n",
        "        一個包含 k 個最接近 x 的元素的列表，並以遞增順序排列。\n",
        "    \"\"\"\n",
        "    heap = []  # 初始化一個空的 heap (最小堆積)\n",
        "    for num in arr:\n",
        "        dist = abs(num - x)  # 計算目前數字與 x 的距離\n",
        "        heapq.heappush(heap, (-dist, -num))  # need fix 將 (-距離, -數字) 推入 heap。使用負號是因為 heapq 實作的是最小堆積，我們需要的是最大堆積 (距離越大越優先)\n",
        "        if len(heap) > k:\n",
        "            heapq.heappop(heap)  # 如果 heap 中的元素數量超過 k，移除堆頂元素 (距離最大的)\n",
        "\n",
        "    result = [-num for _, num in heap]  # 從 heap 中取出數字部分 (原本存的是負數，這裡轉回正數)\n",
        "    result.sort()  # need fix 將結果按照遞增順序排序\n",
        "    return result"
      ],
      "metadata": {
        "id": "1ryz71me6SUk"
      },
      "execution_count": null,
      "outputs": []
    },
    {
      "cell_type": "code",
      "source": [
        "import heapq\n",
        "# version 2: O(n log n)\n",
        "def find_closest_elements(arr, k, x):\n",
        "    data = [(abs(num - x),num) for num in arr] # 建立一個包含 (距離, 數字) tuples的列表\n",
        "    result = [num for _, num in heapq.nsmallest(k,data)] # need fix 找出 k 個最小的(距離, 數字)tuples，並取出數字部分\n",
        "    result.sort() #need fix 將結果按照遞增順序排序\n",
        "    return result"
      ],
      "metadata": {
        "id": "0IS4IplM6f5A"
      },
      "execution_count": null,
      "outputs": []
    },
    {
      "cell_type": "code",
      "source": [
        "print(find_closest_elements([1,2,3,4,5], 2, 3)) # [2, 3]\n",
        "print(find_closest_elements([1,2,3,4,5], 4, 3)) # [1, 2, 3, 4]\n",
        "print(find_closest_elements([1,2,3,4,5], 4, -1)) # [1, 2, 3, 4]\n",
        "print(find_closest_elements([1,1,1,10,10,10], 1, 9)) #[10]\n",
        "print(find_closest_elements([-2, -1, 0, 0, 1, 2], 4, 0)) #[-1, 0, 0, 1]"
      ],
      "metadata": {
        "id": "l7NyxRiF6_88",
        "colab": {
          "base_uri": "https://localhost:8080/"
        },
        "outputId": "6c761bc4-49da-4228-ed9c-90174253cbb6"
      },
      "execution_count": null,
      "outputs": [
        {
          "output_type": "stream",
          "name": "stdout",
          "text": [
            "[2, 3]\n",
            "[1, 2, 3, 4]\n",
            "[1, 2, 3, 4]\n",
            "[10]\n",
            "[-1, 0, 0, 1]\n"
          ]
        }
      ]
    },
    {
      "cell_type": "markdown",
      "metadata": {
        "id": "KmijyVloH_tX"
      },
      "source": [
        "# Sorting"
      ]
    },
    {
      "cell_type": "code",
      "source": [
        "list.sort?"
      ],
      "metadata": {
        "id": "RMm8IIGMok9I"
      },
      "execution_count": null,
      "outputs": []
    },
    {
      "cell_type": "code",
      "metadata": {
        "id": "TAjbs1_WVLFZ",
        "colab": {
          "base_uri": "https://localhost:8080/"
        },
        "outputId": "e483b0fa-0267-46c7-d2db-bab20b6cb719"
      },
      "source": [
        "nums=[2,3,1,7,9,4,6,5]\n",
        "result = nums.sort()\n",
        "print(result, nums)"
      ],
      "execution_count": null,
      "outputs": [
        {
          "output_type": "stream",
          "name": "stdout",
          "text": [
            "None [1, 2, 3, 4, 5, 6, 7, 9]\n"
          ]
        }
      ]
    },
    {
      "cell_type": "code",
      "source": [
        "nums=[2,3,1,7,9,4,6,5]\n",
        "print(nums.sort())"
      ],
      "metadata": {
        "id": "N-iHdW2DovDI",
        "colab": {
          "base_uri": "https://localhost:8080/"
        },
        "outputId": "da5c2870-cc0c-4a32-8ae8-16651a46a9af"
      },
      "execution_count": null,
      "outputs": [
        {
          "output_type": "stream",
          "name": "stdout",
          "text": [
            "None\n"
          ]
        }
      ]
    },
    {
      "cell_type": "code",
      "source": [
        "sorted?"
      ],
      "metadata": {
        "id": "4wjMBj4uo-_d"
      },
      "execution_count": null,
      "outputs": []
    },
    {
      "cell_type": "code",
      "source": [
        "nums=[2,3,1,7,9,4,6,5]\n",
        "print(sorted(nums))\n",
        "print(nums)"
      ],
      "metadata": {
        "id": "tNqyWhAlreE_",
        "colab": {
          "base_uri": "https://localhost:8080/"
        },
        "outputId": "ac41214d-ec4f-41d1-df88-3e1ee61aaf13"
      },
      "execution_count": null,
      "outputs": [
        {
          "output_type": "stream",
          "name": "stdout",
          "text": [
            "[1, 2, 3, 4, 5, 6, 7, 9]\n",
            "[2, 3, 1, 7, 9, 4, 6, 5]\n"
          ]
        }
      ]
    },
    {
      "cell_type": "code",
      "metadata": {
        "id": "VkhB2KXcdpxG",
        "colab": {
          "base_uri": "https://localhost:8080/"
        },
        "outputId": "bf4a24ff-e439-4f61-dab7-27146f221235"
      },
      "source": [
        "nums = (2,3,1,7,9,4,6,5)\n",
        "print(sorted(nums))\n",
        "print(nums,type(nums))"
      ],
      "execution_count": null,
      "outputs": [
        {
          "output_type": "stream",
          "name": "stdout",
          "text": [
            "[1, 2, 3, 4, 5, 6, 7, 9]\n",
            "(2, 3, 1, 7, 9, 4, 6, 5) <class 'tuple'>\n"
          ]
        }
      ]
    },
    {
      "cell_type": "code",
      "metadata": {
        "id": "3Il5mE_BdUtb",
        "colab": {
          "base_uri": "https://localhost:8080/"
        },
        "outputId": "67c1d530-7562-4721-c9fe-a3adcc44115c"
      },
      "source": [
        "s = \"bgdsyiomo7fr\"\n",
        "t = \"bgdsyio7mofr\"\n",
        "print(sorted(s) == sorted(t))\n",
        "print(s == t)"
      ],
      "execution_count": null,
      "outputs": [
        {
          "output_type": "stream",
          "name": "stdout",
          "text": [
            "True\n",
            "False\n"
          ]
        }
      ]
    },
    {
      "cell_type": "code",
      "metadata": {
        "id": "zQOuMq1xdvG5",
        "colab": {
          "base_uri": "https://localhost:8080/"
        },
        "outputId": "5e7449aa-f6f0-48f5-8160-dbae75464b01"
      },
      "source": [
        "sorted(s), sorted(t)"
      ],
      "execution_count": null,
      "outputs": [
        {
          "output_type": "execute_result",
          "data": {
            "text/plain": [
              "(['7', 'b', 'd', 'f', 'g', 'i', 'm', 'o', 'o', 'r', 's', 'y'],\n",
              " ['7', 'b', 'd', 'f', 'g', 'i', 'm', 'o', 'o', 'r', 's', 'y'])"
            ]
          },
          "metadata": {},
          "execution_count": 12
        }
      ]
    },
    {
      "cell_type": "code",
      "source": [
        "sorted(\"earth\"), sorted(\"heart\")"
      ],
      "metadata": {
        "id": "bKvAcKUAp3WH",
        "colab": {
          "base_uri": "https://localhost:8080/"
        },
        "outputId": "5702b1de-1941-4ed6-efce-f6a52dbf4fa1"
      },
      "execution_count": null,
      "outputs": [
        {
          "output_type": "execute_result",
          "data": {
            "text/plain": [
              "(['a', 'e', 'h', 'r', 't'], ['a', 'e', 'h', 'r', 't'])"
            ]
          },
          "metadata": {},
          "execution_count": 13
        }
      ]
    },
    {
      "cell_type": "markdown",
      "metadata": {
        "id": "Nibmwl5ZKDGF"
      },
      "source": [
        "# Quicksort"
      ]
    },
    {
      "cell_type": "code",
      "metadata": {
        "id": "BHbAJCt0J72y"
      },
      "source": [
        "def quicksort(nums:list, low:int, high:int):\n",
        "  if low < high:\n",
        "    pivot_idx = partition(nums, low, high)\n",
        "    print(\"pivot is:\",nums[pivot_idx], nums)\n",
        "    quicksort(nums, low, pivot_idx-1)\n",
        "    quicksort(nums, pivot_idx+1, high)"
      ],
      "execution_count": null,
      "outputs": []
    },
    {
      "cell_type": "code",
      "metadata": {
        "id": "DxmGfnCCKaVO"
      },
      "source": [
        "def partition(nums:list, low:int, high:int)->int:\n",
        "  pivot = nums[low]\n",
        "  leftwall = low\n",
        "  for i in range(low+1,high+1):\n",
        "    if nums[i] < pivot:\n",
        "      leftwall += 1\n",
        "      nums[i], nums[leftwall] = nums[leftwall], nums[i]\n",
        "  nums[low], nums[leftwall] = nums[leftwall], nums[low]\n",
        "  return leftwall"
      ],
      "execution_count": null,
      "outputs": []
    },
    {
      "cell_type": "code",
      "metadata": {
        "id": "BxG7Q0IgKg8o",
        "colab": {
          "base_uri": "https://localhost:8080/"
        },
        "outputId": "86bdacc3-0da5-4b88-f6b5-3bc0cd19cee2"
      },
      "source": [
        "nums = [3,0,1,8,7,2,5,4,9,6]\n",
        "quicksort(nums, 0, len(nums)-1)\n",
        "print(nums)"
      ],
      "execution_count": null,
      "outputs": [
        {
          "output_type": "stream",
          "name": "stdout",
          "text": [
            "pivot is: 3 [2, 0, 1, 3, 7, 8, 5, 4, 9, 6]\n",
            "pivot is: 2 [1, 0, 2, 3, 7, 8, 5, 4, 9, 6]\n",
            "pivot is: 1 [0, 1, 2, 3, 7, 8, 5, 4, 9, 6]\n",
            "pivot is: 7 [0, 1, 2, 3, 6, 5, 4, 7, 9, 8]\n",
            "pivot is: 6 [0, 1, 2, 3, 4, 5, 6, 7, 9, 8]\n",
            "pivot is: 4 [0, 1, 2, 3, 4, 5, 6, 7, 9, 8]\n",
            "pivot is: 9 [0, 1, 2, 3, 4, 5, 6, 7, 8, 9]\n",
            "[0, 1, 2, 3, 4, 5, 6, 7, 8, 9]\n"
          ]
        }
      ]
    },
    {
      "cell_type": "code",
      "metadata": {
        "id": "m1skNBr5LOOo"
      },
      "source": [
        "# dancing version\n",
        "def partition(nums:list, low:int, high:int)->int:\n",
        "  pivot, hat, step = low, high, -1\n",
        "  while pivot != hat:\n",
        "    if step == -1 and nums[pivot] > nums[hat]:\n",
        "      nums[pivot], nums[hat] = nums[hat], nums[pivot]\n",
        "      pivot, hat, step = hat, pivot, 1\n",
        "    elif step == 1 and nums[pivot] < nums[hat]:\n",
        "      nums[pivot], nums[hat] = nums[hat], nums[pivot]\n",
        "      pivot, hat, step = hat, pivot, -1\n",
        "    hat += step\n",
        "  return pivot"
      ],
      "execution_count": null,
      "outputs": []
    },
    {
      "cell_type": "code",
      "metadata": {
        "id": "yCgR8_d1nmhq",
        "colab": {
          "base_uri": "https://localhost:8080/"
        },
        "outputId": "0d0e77e9-ca4e-4f46-a487-ad2566af9671"
      },
      "source": [
        "nums = [3,0,1,8,7,2,5,4,9,6]\n",
        "quicksort(nums, 0, len(nums)-1)\n",
        "print(nums)"
      ],
      "execution_count": null,
      "outputs": [
        {
          "output_type": "stream",
          "name": "stdout",
          "text": [
            "pivot is: 3 [2, 0, 1, 3, 7, 8, 5, 4, 9, 6]\n",
            "pivot is: 2 [1, 0, 2, 3, 7, 8, 5, 4, 9, 6]\n",
            "pivot is: 1 [0, 1, 2, 3, 7, 8, 5, 4, 9, 6]\n",
            "pivot is: 7 [0, 1, 2, 3, 6, 4, 5, 7, 9, 8]\n",
            "pivot is: 6 [0, 1, 2, 3, 5, 4, 6, 7, 9, 8]\n",
            "pivot is: 5 [0, 1, 2, 3, 4, 5, 6, 7, 9, 8]\n",
            "pivot is: 9 [0, 1, 2, 3, 4, 5, 6, 7, 8, 9]\n",
            "[0, 1, 2, 3, 4, 5, 6, 7, 8, 9]\n"
          ]
        }
      ]
    },
    {
      "cell_type": "code",
      "metadata": {
        "id": "SznamT25K0zL"
      },
      "source": [],
      "execution_count": null,
      "outputs": []
    },
    {
      "cell_type": "markdown",
      "source": [
        "# Graph"
      ],
      "metadata": {
        "id": "3oGdV1wGja27"
      }
    },
    {
      "cell_type": "code",
      "metadata": {
        "id": "5kPtft1eTox6",
        "colab": {
          "base_uri": "https://localhost:8080/"
        },
        "outputId": "57ce5fc2-c4e4-47a2-a429-8ee365b82ca1"
      },
      "source": [
        "class GraphVertex:\n",
        "    def __init__(self, label):\n",
        "        self.label = label\n",
        "        self.edges = []  #Edges in Adjacency List\n",
        "    def __str__(self):\n",
        "        #output = str(self.label)+': '\n",
        "        #for e in self.edges:\n",
        "        #    output += f\"{self.label}->{e.label} \"\n",
        "        return f\"{self.label}: \"+\", \".join(f\"{self.label}->{e.label}\" for e in self.edges)\n",
        "\n",
        "def initial_graph(n:int, edge_list:list)->list:\n",
        "    graph = []\n",
        "    for i in range(n):\n",
        "        graph.append(GraphVertex(i))\n",
        "    for e in edge_list:\n",
        "        if  0 <= e[0] < n and 0 <= e[1] < n:\n",
        "            graph[e[0]].edges.append(graph[e[1]])\n",
        "    return graph\n",
        "\n",
        "edge_list=[[2,4],[4,2],[1,4],[4,1],[3,4],[4,3],[1,3],[3,1]]\n",
        "graph = initial_graph(5,edge_list)\n",
        "for v in graph:\n",
        "    print(v)"
      ],
      "execution_count": null,
      "outputs": [
        {
          "output_type": "stream",
          "name": "stdout",
          "text": [
            "0: \n",
            "1: 1->4, 1->3\n",
            "2: 2->4\n",
            "3: 3->4, 3->1\n",
            "4: 4->2, 4->1, 4->3\n"
          ]
        }
      ]
    },
    {
      "cell_type": "code",
      "metadata": {
        "id": "s0AKe4wDTtQ_"
      },
      "source": [
        "import networkx as nx"
      ],
      "execution_count": null,
      "outputs": []
    },
    {
      "cell_type": "code",
      "metadata": {
        "id": "buV4qe7bT46h",
        "colab": {
          "base_uri": "https://localhost:8080/",
          "height": 516
        },
        "outputId": "b7bc0dbb-0bc2-490a-81a8-0890e62ef27b"
      },
      "source": [
        "g = nx.Graph()\n",
        "g.add_nodes_from(range(5))\n",
        "g.add_edges_from(edge_list)\n",
        "nx.draw(g, with_labels=True, font_weight='bold')"
      ],
      "execution_count": null,
      "outputs": [
        {
          "output_type": "display_data",
          "data": {
            "text/plain": [
              "<Figure size 640x480 with 1 Axes>"
            ],
            "image/png": "[encoded data removed]"
          },
          "metadata": {}
        }
      ]
    },
    {
      "cell_type": "code",
      "source": [],
      "metadata": {
        "id": "by4TCG1bjwZk"
      },
      "execution_count": null,
      "outputs": []
    }
  ]
}