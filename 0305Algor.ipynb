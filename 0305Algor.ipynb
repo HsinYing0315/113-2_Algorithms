{
  "nbformat": 4,
  "nbformat_minor": 0,
  "metadata": {
    "colab": {
      "provenance": [],
      "toc_visible": true,
      "include_colab_link": true
    },
    "kernelspec": {
      "name": "python3",
      "display_name": "Python 3"
    }
  },
  "cells": [
    {
      "cell_type": "markdown",
      "metadata": {
        "id": "view-in-github",
        "colab_type": "text"
      },
      "source": [
        "<a href=\"https://colab.research.google.com/github/HsinYing0315/113-2_Algorithms/blob/main/0305Algor.ipynb\" target=\"_parent\"><img src=\"https://colab.research.google.com/assets/colab-badge.svg\" alt=\"Open In Colab\"/></a>"
      ]
    },
    {
      "cell_type": "markdown",
      "source": [
        "# Review: 0226 Zuvio"
      ],
      "metadata": {
        "id": "boKRfbLtXFSb"
      }
    },
    {
      "cell_type": "code",
      "source": [
        "n = 10\n",
        "x = 0\n",
        "for i in range(1, n+1):\n",
        "    k = i + 1\n",
        "    while k <= n:\n",
        "        x = x + 1\n",
        "        k += 1\n",
        "print(x)"
      ],
      "metadata": {
        "id": "YO_vuKccXJBA",
        "colab": {
          "base_uri": "https://localhost:8080/"
        },
        "outputId": "4ff9410f-c747-414b-9ad4-f4d1e940fbe4"
      },
      "execution_count": null,
      "outputs": [
        {
          "output_type": "stream",
          "name": "stdout",
          "text": [
            "45\n"
          ]
        }
      ]
    },
    {
      "cell_type": "code",
      "source": [
        "n = 10\n",
        "x = 0\n",
        "for i in range(n):\n",
        "    for k in range(i+1,n):\n",
        "        x = x + 1\n",
        "print(x)"
      ],
      "metadata": {
        "id": "RWenn-fuXvPl"
      },
      "execution_count": null,
      "outputs": []
    },
    {
      "cell_type": "code",
      "source": [
        "def test2(n):\n",
        "    x = 0\n",
        "    for i in range(n):\n",
        "        for j in range(n):\n",
        "            x = x + 1\n",
        "    return x"
      ],
      "metadata": {
        "id": "ucz1Y0POYBHi"
      },
      "execution_count": null,
      "outputs": []
    },
    {
      "cell_type": "code",
      "source": [
        "test2(3)"
      ],
      "metadata": {
        "id": "KsCZGB-gY4h2",
        "colab": {
          "base_uri": "https://localhost:8080/"
        },
        "outputId": "e41ee5e1-5aac-4b9f-f8b8-9e1594d72adc"
      },
      "execution_count": null,
      "outputs": [
        {
          "output_type": "execute_result",
          "data": {
            "text/plain": [
              "9"
            ]
          },
          "metadata": {},
          "execution_count": 3
        }
      ]
    },
    {
      "cell_type": "code",
      "source": [
        "test2(10)"
      ],
      "metadata": {
        "id": "WLUBXEX4Y7Qs",
        "colab": {
          "base_uri": "https://localhost:8080/"
        },
        "outputId": "dd0f214d-7a48-4a82-db78-0389c00bf488"
      },
      "execution_count": null,
      "outputs": [
        {
          "output_type": "execute_result",
          "data": {
            "text/plain": [
              "100"
            ]
          },
          "metadata": {},
          "execution_count": 4
        }
      ]
    },
    {
      "cell_type": "code",
      "source": [
        "import matplotlib.pyplot as plt\n",
        "data = [test2(n) for n in range(10)]\n",
        "plt.plot(data, \"o-b\")\n",
        "plt.xlabel(\"Data size(n)\")\n",
        "plt.ylabel(\"Steps\")\n",
        "plt.show()"
      ],
      "metadata": {
        "id": "1omGvRwQY8f2",
        "colab": {
          "base_uri": "https://localhost:8080/",
          "height": 449
        },
        "outputId": "3afe5f30-ab72-48fa-ad32-00f6ada0f414"
      },
      "execution_count": null,
      "outputs": [
        {
          "output_type": "display_data",
          "data": {
            "text/plain": [
              "<Figure size 640x480 with 1 Axes>"
            ],
            "image/png": "[encoded data removed]"
          },
          "metadata": {}
        }
      ]
    },
    {
      "cell_type": "code",
      "source": [
        "import matplotlib.pyplot as plt\n",
        "data = [test2(n) for n in range(10)]\n",
        "data_n = [n for n in range(10)]\n",
        "data_nn = [n*n for n in range(10)]\n",
        "data_nnn = [n*n*n for n in range(10)]\n",
        "data_2n = [n+n for n in range(10)]\n",
        "plt.plot(data, \"o-b\", data_n, \"o--g\", data_nn, \"o--r\", data_nnn, \"o--k\", data_2n, \"o--y\")\n",
        "plt.xlabel(\"Data size(n)\")\n",
        "plt.ylabel(\"Steps\")\n",
        "plt.show()"
      ],
      "metadata": {
        "id": "fmcuMHByas9w"
      },
      "execution_count": null,
      "outputs": []
    },
    {
      "cell_type": "code",
      "source": [
        "import matplotlib.pyplot as plt\n",
        "f = [n**2+3*n+4 for n in range(10)]\n",
        "g = [6*n+7 for n in range(10)]\n",
        "plt.plot(f, \"o-b\", g, \"o--r\")\n",
        "plt.show()"
      ],
      "metadata": {
        "id": "6peQtmR1cWkx",
        "colab": {
          "base_uri": "https://localhost:8080/",
          "height": 430
        },
        "outputId": "5199966f-18e1-4f87-d431-c3fa7476649b"
      },
      "execution_count": null,
      "outputs": [
        {
          "output_type": "display_data",
          "data": {
            "text/plain": [
              "<Figure size 640x480 with 1 Axes>"
            ],
            "image/png": "[encoded data removed]"
          },
          "metadata": {}
        }
      ]
    },
    {
      "cell_type": "code",
      "source": [
        "import matplotlib.pyplot as plt\n",
        "f = [n*n**0.5 for n in range(10)]\n",
        "g = [n**2 - n for n in range(10)]\n",
        "plt.plot(f, \"o-b\", g, \"o--r\")\n",
        "plt.show()"
      ],
      "metadata": {
        "id": "rkX47rhKc0lI",
        "colab": {
          "base_uri": "https://localhost:8080/",
          "height": 430
        },
        "outputId": "4f112269-7394-4e9b-ffb6-6e03cf1a4ef0"
      },
      "execution_count": null,
      "outputs": [
        {
          "output_type": "display_data",
          "data": {
            "text/plain": [
              "<Figure size 640x480 with 1 Axes>"
            ],
            "image/png": "[encoded data removed]"
          },
          "metadata": {}
        }
      ]
    },
    {
      "cell_type": "code",
      "source": [
        "import matplotlib.pyplot as plt\n",
        "f = [2**n-n**2 for n in range(1,20)]\n",
        "g = [n**4+n**2 for n in range(1,20)]\n",
        "plt.plot(f, \"o-b\", g, \"o--r\")\n",
        "plt.show()"
      ],
      "metadata": {
        "id": "9ch5LJprdDSM",
        "colab": {
          "base_uri": "https://localhost:8080/",
          "height": 430
        },
        "outputId": "6b709301-1863-480e-8a2d-e5cd5f9ea474"
      },
      "execution_count": null,
      "outputs": [
        {
          "output_type": "display_data",
          "data": {
            "text/plain": [
              "<Figure size 640x480 with 1 Axes>"
            ],
            "image/png": "[encoded data removed]"
          },
          "metadata": {}
        }
      ]
    },
    {
      "cell_type": "markdown",
      "source": [
        "# Review: Programming Exercise 01"
      ],
      "metadata": {
        "id": "R6r_R_UveHwk"
      }
    },
    {
      "cell_type": "code",
      "source": [
        "def count_bits(n:int)->int:\n",
        "    count = 0\n",
        "    while n > 0:\n",
        "        count += n & 1 #need fix\n",
        "        n >>= 1     #need fix\n",
        "    return count"
      ],
      "metadata": {
        "id": "7oXT9Gq4fvjj"
      },
      "execution_count": null,
      "outputs": []
    },
    {
      "cell_type": "code",
      "source": [
        "print(count_bits(5)) #2\n",
        "print(count_bits(15)) #4\n",
        "print(count_bits(0)) #0\n",
        "print(count_bits(1073741824)) #1\n",
        "print(count_bits(14492647)) #15"
      ],
      "metadata": {
        "id": "7HcLqCe_f6Jp",
        "colab": {
          "base_uri": "https://localhost:8080/"
        },
        "outputId": "e565805c-d3e4-415d-8249-1d99a94198f7"
      },
      "execution_count": null,
      "outputs": [
        {
          "output_type": "stream",
          "name": "stdout",
          "text": [
            "2\n",
            "4\n",
            "0\n",
            "1\n",
            "15\n"
          ]
        }
      ]
    },
    {
      "cell_type": "code",
      "source": [
        "def remove_element(nums:list,val:int)->int:\n",
        "    for i in nums.copy() : #need fix\n",
        "        if i == val:\n",
        "            nums.remove(i)\n",
        "    return len(nums)"
      ],
      "metadata": {
        "id": "cTYOJG11gtHr"
      },
      "execution_count": null,
      "outputs": []
    },
    {
      "cell_type": "code",
      "source": [
        "nums = [3,2,2,3]\n",
        "print(remove_element(nums,3),nums) #2 [2, 2]\n",
        "nums = [0,1,2,2,3,0,4,2]\n",
        "print(remove_element(nums,2),nums) #5 [0, 1, 3, 0, 4]\n",
        "nums = [3,2,2,3]\n",
        "print(remove_element(nums,1),nums) #4 [3, 2, 2, 3]\n",
        "nums = [3,3,3]\n",
        "print(remove_element(nums,3),nums) #0 []\n",
        "nums = []\n",
        "print(remove_element(nums,0),nums) #0 []"
      ],
      "metadata": {
        "id": "-I0-G7kTg00W",
        "colab": {
          "base_uri": "https://localhost:8080/"
        },
        "outputId": "553f35ba-8837-4c49-f37a-e98d607e4054"
      },
      "execution_count": null,
      "outputs": [
        {
          "output_type": "stream",
          "name": "stdout",
          "text": [
            "2 [2, 2]\n",
            "5 [0, 1, 3, 0, 4]\n",
            "4 [3, 2, 2, 3]\n",
            "0 []\n",
            "0 []\n"
          ]
        }
      ]
    },
    {
      "cell_type": "code",
      "metadata": {
        "id": "-raFEd3bJEYD"
      },
      "source": [
        "def get_largest_cycle(i:int, j:int)->int:\n",
        "    max_cycle = -float(\"inf\")\n",
        "    for n in range( min(i,j)  , max(i,j)+1  ):  #need fix\n",
        "        cycle = 1\n",
        "        while n > 1:\n",
        "            # 3n+1\n",
        "            n = 3*n+1 if n % 2 == 1  else n // 2  # need fix if n is odd number\n",
        "            cycle += 1\n",
        "        max_cycle = max(max_cycle, cycle)\n",
        "    return max_cycle"
      ],
      "execution_count": null,
      "outputs": []
    },
    {
      "cell_type": "code",
      "source": [
        "print(get_largest_cycle(1,10)) #20\n",
        "print(get_largest_cycle(100,200)) #125\n",
        "print(get_largest_cycle(201,210)) #89\n",
        "print(get_largest_cycle(900,1000)) #174\n",
        "print(get_largest_cycle(999999,999990)) #259"
      ],
      "metadata": {
        "id": "GkdE5xAyhkAO",
        "colab": {
          "base_uri": "https://localhost:8080/"
        },
        "outputId": "f909cad5-7f1c-43fe-a0fb-3dc3bad88ab1"
      },
      "execution_count": null,
      "outputs": [
        {
          "output_type": "stream",
          "name": "stdout",
          "text": [
            "20\n",
            "125\n",
            "89\n",
            "174\n",
            "259\n"
          ]
        }
      ]
    },
    {
      "cell_type": "markdown",
      "source": [
        "# Program Analysis"
      ],
      "metadata": {
        "id": "JvYge5GjhsEs"
      }
    },
    {
      "cell_type": "markdown",
      "source": [
        "## Selection Sort"
      ],
      "metadata": {
        "id": "Crlsunh_11L5"
      }
    },
    {
      "cell_type": "code",
      "source": [
        "def selection_sort(s):\n",
        "    for i in range(len(s)):\n",
        "        min_index = i\n",
        "        for j in range(i+1,len(s)):\n",
        "            if s[j] < s[min_index]:\n",
        "                min_index = j\n",
        "        if min_index != i:\n",
        "            s[min_index], s[i] = s[i], s[min_index]\n",
        "        print(f\"Round {i+1}: {s}\")\n",
        "    return s"
      ],
      "metadata": {
        "id": "XO4Y9AlYiUps"
      },
      "execution_count": null,
      "outputs": []
    },
    {
      "cell_type": "code",
      "source": [
        "a = [3, 0, 1, 8, 7, 2, 5, 4, 9, 6]\n",
        "print(selection_sort(a))"
      ],
      "metadata": {
        "id": "u4B_CystiW-j",
        "colab": {
          "base_uri": "https://localhost:8080/"
        },
        "outputId": "11927df6-e9b5-4498-ac80-4a509475aa49"
      },
      "execution_count": null,
      "outputs": [
        {
          "output_type": "stream",
          "name": "stdout",
          "text": [
            "Round 1: [0, 3, 1, 8, 7, 2, 5, 4, 9, 6]\n",
            "Round 2: [0, 1, 3, 8, 7, 2, 5, 4, 9, 6]\n",
            "Round 3: [0, 1, 2, 8, 7, 3, 5, 4, 9, 6]\n",
            "Round 4: [0, 1, 2, 3, 7, 8, 5, 4, 9, 6]\n",
            "Round 5: [0, 1, 2, 3, 4, 8, 5, 7, 9, 6]\n",
            "Round 6: [0, 1, 2, 3, 4, 5, 8, 7, 9, 6]\n",
            "Round 7: [0, 1, 2, 3, 4, 5, 6, 7, 9, 8]\n",
            "Round 8: [0, 1, 2, 3, 4, 5, 6, 7, 9, 8]\n",
            "Round 9: [0, 1, 2, 3, 4, 5, 6, 7, 8, 9]\n",
            "Round 10: [0, 1, 2, 3, 4, 5, 6, 7, 8, 9]\n",
            "[0, 1, 2, 3, 4, 5, 6, 7, 8, 9]\n"
          ]
        }
      ]
    },
    {
      "cell_type": "code",
      "source": [
        "def selection_sort2(s): #dance version\n",
        "    for i in range(len(s)):\n",
        "        min_index = i\n",
        "        for j in range(i+1,len(s)):\n",
        "            if s[j] < s[min_index]:\n",
        "                s[j], s[min_index] = s[min_index], s[j]\n",
        "        print(f\"Round {i+1}: {s}\")\n",
        "    return s"
      ],
      "metadata": {
        "id": "xG9kLg4qzWV3"
      },
      "execution_count": null,
      "outputs": []
    },
    {
      "cell_type": "code",
      "source": [
        "a = [3, 0, 1, 8, 7, 2, 5, 4, 9, 6]\n",
        "print(selection_sort2(a))"
      ],
      "metadata": {
        "id": "XT9l3bh8zRyn",
        "colab": {
          "base_uri": "https://localhost:8080/"
        },
        "outputId": "f0405599-f641-4a81-d84e-1dbf979839dd"
      },
      "execution_count": null,
      "outputs": [
        {
          "output_type": "stream",
          "name": "stdout",
          "text": [
            "Round 1: [0, 3, 1, 8, 7, 2, 5, 4, 9, 6]\n",
            "Round 2: [0, 1, 3, 8, 7, 2, 5, 4, 9, 6]\n",
            "Round 3: [0, 1, 2, 8, 7, 3, 5, 4, 9, 6]\n",
            "Round 4: [0, 1, 2, 3, 8, 7, 5, 4, 9, 6]\n",
            "Round 5: [0, 1, 2, 3, 4, 8, 7, 5, 9, 6]\n",
            "Round 6: [0, 1, 2, 3, 4, 5, 8, 7, 9, 6]\n",
            "Round 7: [0, 1, 2, 3, 4, 5, 6, 8, 9, 7]\n",
            "Round 8: [0, 1, 2, 3, 4, 5, 6, 7, 9, 8]\n",
            "Round 9: [0, 1, 2, 3, 4, 5, 6, 7, 8, 9]\n",
            "Round 10: [0, 1, 2, 3, 4, 5, 6, 7, 8, 9]\n",
            "[0, 1, 2, 3, 4, 5, 6, 7, 8, 9]\n"
          ]
        }
      ]
    },
    {
      "cell_type": "markdown",
      "source": [
        "## Insertion Sort"
      ],
      "metadata": {
        "id": "PQm7ABvf2dGA"
      }
    },
    {
      "cell_type": "code",
      "source": [
        "def insertion_sort(s):\n",
        "    for i in range(1,len(s)):\n",
        "        j = i\n",
        "        while j > 0 and s[j] < s[j-1]:\n",
        "            s[j], s[j-1] = s[j-1], s[j]\n",
        "            j = j-1\n",
        "        print(f\"Round {i}: {s}\")\n",
        "    return s"
      ],
      "metadata": {
        "id": "DEOTOtOH0p5v"
      },
      "execution_count": null,
      "outputs": []
    },
    {
      "cell_type": "code",
      "source": [
        "a = [3, 0, 1, 8, 7, 2, 5, 4, 9, 6]\n",
        "print(insertion_sort(a))"
      ],
      "metadata": {
        "id": "P0uSldLa2yR5",
        "colab": {
          "base_uri": "https://localhost:8080/"
        },
        "outputId": "45cdc9ee-b382-41c6-ac81-3f1b9f409f72"
      },
      "execution_count": null,
      "outputs": [
        {
          "output_type": "stream",
          "name": "stdout",
          "text": [
            "Round 1: [0, 3, 1, 8, 7, 2, 5, 4, 9, 6]\n",
            "Round 2: [0, 1, 3, 8, 7, 2, 5, 4, 9, 6]\n",
            "Round 3: [0, 1, 3, 8, 7, 2, 5, 4, 9, 6]\n",
            "Round 4: [0, 1, 3, 7, 8, 2, 5, 4, 9, 6]\n",
            "Round 5: [0, 1, 2, 3, 7, 8, 5, 4, 9, 6]\n",
            "Round 6: [0, 1, 2, 3, 5, 7, 8, 4, 9, 6]\n",
            "Round 7: [0, 1, 2, 3, 4, 5, 7, 8, 9, 6]\n",
            "Round 8: [0, 1, 2, 3, 4, 5, 7, 8, 9, 6]\n",
            "Round 9: [0, 1, 2, 3, 4, 5, 6, 7, 8, 9]\n",
            "[0, 1, 2, 3, 4, 5, 6, 7, 8, 9]\n"
          ]
        }
      ]
    },
    {
      "cell_type": "markdown",
      "source": [
        "## Asymptotic Dominance"
      ],
      "metadata": {
        "id": "KgiONPo97yto"
      }
    },
    {
      "cell_type": "code",
      "source": [
        "import math\n",
        "data_log = [math.log(n,2) for n in range(1,10)]\n",
        "data_n = [n for n in range(1,10)]\n",
        "data_nlogn = [n*math.log(n,2) for n in range(1,10)]\n",
        "data_nn = [n*n for n in range(1,10)]\n",
        "data_2n = [2**n for n in range(1,10)]\n",
        "plt.plot(data_log, \"o-b\", data_n, \"o--g\", data_nlogn, \"o--r\", data_nn, \"o--k\", data_2n, \"o--y\")\n",
        "plt.xlabel(\"Data size(n)\")\n",
        "plt.ylabel(\"Steps\")\n",
        "plt.show()"
      ],
      "metadata": {
        "id": "nLLn-igC8Ahp",
        "colab": {
          "base_uri": "https://localhost:8080/",
          "height": 449
        },
        "outputId": "346cfaba-b0b6-41b1-8007-9440fe2dc7a1"
      },
      "execution_count": null,
      "outputs": [
        {
          "output_type": "display_data",
          "data": {
            "text/plain": [
              "<Figure size 640x480 with 1 Axes>"
            ],
            "image/png": "[encoded data removed]"
          },
          "metadata": {}
        }
      ]
    },
    {
      "cell_type": "markdown",
      "source": [
        "## Binary Search"
      ],
      "metadata": {
        "id": "54vkUOli9z0f"
      }
    },
    {
      "cell_type": "code",
      "source": [
        "def bin_search(n:int, a:list,s:int,e:int)->int:\n",
        "    if s > e:\n",
        "        return -1\n",
        "    mid = (s + e) // 2\n",
        "    print(f\"a[{mid}]={a[mid]}\")\n",
        "    if a[mid] == n:\n",
        "        return mid\n",
        "    else:\n",
        "        return bin_search(n, a, mid+1, e) if a[mid] < n else bin_search(n, a, s, mid-1)"
      ],
      "metadata": {
        "id": "1btIwBUf_VVc"
      },
      "execution_count": null,
      "outputs": []
    },
    {
      "cell_type": "code",
      "source": [
        "a = [0,2,3,5,7,8,9]\n",
        "print(bin_search(7, a, 0, len(a)-1))"
      ],
      "metadata": {
        "id": "S5WvJKP8ADER",
        "colab": {
          "base_uri": "https://localhost:8080/"
        },
        "outputId": "e7b38862-0b2b-46a5-aca7-19cd770d702e"
      },
      "execution_count": null,
      "outputs": [
        {
          "output_type": "stream",
          "name": "stdout",
          "text": [
            "a[3]=5\n",
            "a[5]=8\n",
            "a[4]=7\n",
            "4\n"
          ]
        }
      ]
    },
    {
      "cell_type": "code",
      "source": [
        "math.log(7,2), math.ceil(math.log(7,2))"
      ],
      "metadata": {
        "id": "hmeXnnSTAgi5",
        "colab": {
          "base_uri": "https://localhost:8080/"
        },
        "outputId": "829d333e-cc37-4651-f583-12457cb07433"
      },
      "execution_count": null,
      "outputs": [
        {
          "output_type": "execute_result",
          "data": {
            "text/plain": [
              "(2.807354922057604, 3)"
            ]
          },
          "metadata": {},
          "execution_count": 27
        }
      ]
    },
    {
      "cell_type": "code",
      "source": [
        "math.log(100000,2), math.ceil(math.log(100000,2))"
      ],
      "metadata": {
        "id": "MRV5iNg_BhoV",
        "colab": {
          "base_uri": "https://localhost:8080/"
        },
        "outputId": "5c2f2354-fc4f-46f3-aaf8-09182ca1b249"
      },
      "execution_count": null,
      "outputs": [
        {
          "output_type": "execute_result",
          "data": {
            "text/plain": [
              "(16.609640474436812, 17)"
            ]
          },
          "metadata": {},
          "execution_count": 28
        }
      ]
    },
    {
      "cell_type": "code",
      "source": [
        "math.log(700000,2), math.ceil(math.log(700000,2))"
      ],
      "metadata": {
        "id": "UKXKgjy6r_MB",
        "colab": {
          "base_uri": "https://localhost:8080/"
        },
        "outputId": "a36cad30-5ce4-4c6c-f2a9-c690d7c2598d"
      },
      "execution_count": null,
      "outputs": [
        {
          "output_type": "execute_result",
          "data": {
            "text/plain": [
              "(19.416995396494418, 20)"
            ]
          },
          "metadata": {},
          "execution_count": 29
        }
      ]
    },
    {
      "cell_type": "markdown",
      "metadata": {
        "id": "uJqlhRyq9Aiv"
      },
      "source": [
        "# Linked List Structures(鏈接串列)"
      ]
    },
    {
      "cell_type": "code",
      "metadata": {
        "id": "fKCVyBN89DmF"
      },
      "source": [
        "class ListNode:\n",
        "  def __init__(self, data):\n",
        "    self.data = data\n",
        "    self.next = None\n",
        "\n",
        "  def search(self, key):\n",
        "    L = self\n",
        "    while L and L.data != key:\n",
        "      L = L.next\n",
        "    return L #If key was not present in the linked list, L will have become None.\n",
        "  def search_rec(self, key):\n",
        "    if self.data == key:\n",
        "      return self\n",
        "    elif self.next is None:\n",
        "      return None\n",
        "    else:\n",
        "      return self.next.search_rec(key)\n",
        "\n",
        "  def insert_after(self, new_node): #tail not maintain\n",
        "    new_node.next = self.next\n",
        "    self.next = new_node\n",
        "\n",
        "  def delete_nextnode(self): #tail not maintain\n",
        "    self.next = self.next.next\n",
        "  def delete_thisnode(self): #tail not maintain\n",
        "    self.data = self.next.data\n",
        "    self.next = self.next.next\n",
        "\n",
        "  def print_list(self):\n",
        "    L = self\n",
        "    while L:\n",
        "      print(L.data, end=' ')\n",
        "      L = L.next\n",
        "    print()\n",
        "\n",
        "  def __iter__(self):\n",
        "    current = self\n",
        "    while current is not None:\n",
        "      yield current\t# suspend and output current ListNode object\n",
        "      current = current.next\n",
        "\n",
        "  def __str__(self):\n",
        "    return \" -> \".join([L.data for L in self])"
      ],
      "execution_count": null,
      "outputs": []
    },
    {
      "cell_type": "code",
      "metadata": {
        "id": "CMQkhdP_9QsW"
      },
      "source": [
        "presidents=['Lincoln', 'Jefferson', 'Clinton', 'Obama', 'Trump', 'Biden', 'Trump']\n",
        "head = None\n",
        "for i in presidents:\n",
        "  if head is None:\n",
        "    head = ListNode(i)\n",
        "    tail = head\n",
        "  else:\n",
        "    tail.next = ListNode(i)\n",
        "    tail = tail.next"
      ],
      "execution_count": null,
      "outputs": []
    },
    {
      "cell_type": "code",
      "metadata": {
        "id": "Horzv-z5AMuT",
        "colab": {
          "base_uri": "https://localhost:8080/"
        },
        "outputId": "d7fb61f3-3f43-4f7e-eac8-6821e9c3be3d"
      },
      "source": [
        "head.print_list()"
      ],
      "execution_count": null,
      "outputs": [
        {
          "output_type": "stream",
          "name": "stdout",
          "text": [
            "Lincoln Jefferson Clinton Obama Trump Biden Trump \n"
          ]
        }
      ]
    },
    {
      "cell_type": "code",
      "metadata": {
        "id": "AYNCFiDPAK2M",
        "colab": {
          "base_uri": "https://localhost:8080/"
        },
        "outputId": "35023f48-e6a6-4d4d-a290-e2959b6bb1af"
      },
      "source": [
        "print(head)"
      ],
      "execution_count": null,
      "outputs": [
        {
          "output_type": "stream",
          "name": "stdout",
          "text": [
            "Lincoln -> Jefferson -> Clinton -> Obama -> Trump -> Biden -> Trump\n"
          ]
        }
      ]
    },
    {
      "cell_type": "code",
      "source": [
        "head.search('Trump') is tail"
      ],
      "metadata": {
        "id": "yniqc_afRMVC",
        "colab": {
          "base_uri": "https://localhost:8080/"
        },
        "outputId": "e6cb3a12-843f-4e9a-d3a3-ea84ab253c94"
      },
      "execution_count": null,
      "outputs": [
        {
          "output_type": "execute_result",
          "data": {
            "text/plain": [
              "False"
            ]
          },
          "metadata": {},
          "execution_count": 59
        }
      ]
    },
    {
      "cell_type": "code",
      "metadata": {
        "id": "_9btbTmFCbCr"
      },
      "source": [
        "head.search('Trump').delete_thisnode()"
      ],
      "execution_count": null,
      "outputs": []
    },
    {
      "cell_type": "code",
      "source": [
        "print(head)"
      ],
      "metadata": {
        "id": "t3IZw01glBvD",
        "colab": {
          "base_uri": "https://localhost:8080/"
        },
        "outputId": "7b9ae5f1-1f57-4fec-9b91-5b0b81e07f9d"
      },
      "execution_count": null,
      "outputs": [
        {
          "output_type": "stream",
          "name": "stdout",
          "text": [
            "Lincoln -> Jefferson -> Clinton -> Obama -> Biden -> Trump\n"
          ]
        }
      ]
    },
    {
      "cell_type": "code",
      "source": [
        "head.search('Trump') is tail"
      ],
      "metadata": {
        "id": "FFJTXlzWRSfw",
        "colab": {
          "base_uri": "https://localhost:8080/"
        },
        "outputId": "25096c22-bb4e-46f3-c511-2b9ddccee1df"
      },
      "execution_count": null,
      "outputs": [
        {
          "output_type": "execute_result",
          "data": {
            "text/plain": [
              "True"
            ]
          },
          "metadata": {},
          "execution_count": 62
        }
      ]
    },
    {
      "cell_type": "code",
      "source": [
        "for node in head:\n",
        "    tail = node"
      ],
      "metadata": {
        "id": "ZzxAQJr3RZPf"
      },
      "execution_count": null,
      "outputs": []
    },
    {
      "cell_type": "code",
      "source": [
        "head.search('Trump') is tail"
      ],
      "metadata": {
        "id": "ulKMaznlrpj5",
        "colab": {
          "base_uri": "https://localhost:8080/"
        },
        "outputId": "0bc09a65-440d-45d6-ab46-043ad0a65d8c"
      },
      "execution_count": null,
      "outputs": [
        {
          "output_type": "execute_result",
          "data": {
            "text/plain": [
              "True"
            ]
          },
          "metadata": {},
          "execution_count": 64
        }
      ]
    },
    {
      "cell_type": "code",
      "source": [
        "head.search('Obama').insert_after(ListNode('Trump'))"
      ],
      "metadata": {
        "id": "OVdi2gxklDwC"
      },
      "execution_count": null,
      "outputs": []
    },
    {
      "cell_type": "code",
      "source": [
        "print(head)"
      ],
      "metadata": {
        "id": "X1nXfubglV0k",
        "colab": {
          "base_uri": "https://localhost:8080/"
        },
        "outputId": "93163fb2-9f72-4c04-d670-a8b2b8df167e"
      },
      "execution_count": null,
      "outputs": [
        {
          "output_type": "stream",
          "name": "stdout",
          "text": [
            "Lincoln -> Jefferson -> Clinton -> Obama -> Trump -> Biden -> Trump\n"
          ]
        }
      ]
    },
    {
      "cell_type": "code",
      "source": [],
      "metadata": {
        "id": "AC86Yf6OPcFJ"
      },
      "execution_count": null,
      "outputs": []
    },
    {
      "cell_type": "code",
      "source": [
        "print(tail)"
      ],
      "metadata": {
        "colab": {
          "base_uri": "https://localhost:8080/"
        },
        "id": "jNwztN09PhDJ",
        "outputId": "6b96fc7f-c92f-4824-f938-0c2f41c9f560"
      },
      "execution_count": null,
      "outputs": [
        {
          "output_type": "stream",
          "name": "stdout",
          "text": [
            "Trump\n"
          ]
        }
      ]
    },
    {
      "cell_type": "code",
      "source": [
        "head.search('Trump')is tail"
      ],
      "metadata": {
        "id": "5uus_668Q_d5",
        "colab": {
          "base_uri": "https://localhost:8080/"
        },
        "outputId": "53268944-c378-4044-bf5c-1950aada47de"
      },
      "execution_count": null,
      "outputs": [
        {
          "output_type": "execute_result",
          "data": {
            "text/plain": [
              "False"
            ]
          },
          "metadata": {},
          "execution_count": 68
        }
      ]
    },
    {
      "cell_type": "code",
      "source": [
        "tail.insert_after(ListNode('XXX')) #has bug"
      ],
      "metadata": {
        "id": "OK3vS0QBHa_n"
      },
      "execution_count": null,
      "outputs": []
    },
    {
      "cell_type": "code",
      "source": [
        "print(head)"
      ],
      "metadata": {
        "id": "IYcBlhiGHj8F",
        "colab": {
          "base_uri": "https://localhost:8080/"
        },
        "outputId": "6f669e3c-19c9-4ee3-c24a-f60403c7c2d5"
      },
      "execution_count": null,
      "outputs": [
        {
          "output_type": "stream",
          "name": "stdout",
          "text": [
            "Lincoln -> Jefferson -> Clinton -> Obama -> Trump -> Biden -> Trump -> XXX\n"
          ]
        }
      ]
    },
    {
      "cell_type": "code",
      "source": [
        "print(tail)"
      ],
      "metadata": {
        "id": "fgijBA57Hqkc",
        "colab": {
          "base_uri": "https://localhost:8080/"
        },
        "outputId": "8efdba89-f547-4efd-98b5-f27ee8858ae1"
      },
      "execution_count": null,
      "outputs": [
        {
          "output_type": "stream",
          "name": "stdout",
          "text": [
            "Trump -> XXX\n"
          ]
        }
      ]
    },
    {
      "cell_type": "code",
      "source": [
        "head.search('Trump') is tail"
      ],
      "metadata": {
        "id": "vUE9IC-EIJck",
        "colab": {
          "base_uri": "https://localhost:8080/"
        },
        "outputId": "b4b166b7-ebfe-40e1-8441-db3c897f20a2"
      },
      "execution_count": null,
      "outputs": [
        {
          "output_type": "execute_result",
          "data": {
            "text/plain": [
              "False"
            ]
          },
          "metadata": {},
          "execution_count": 72
        }
      ]
    },
    {
      "cell_type": "code",
      "source": [],
      "metadata": {
        "id": "0yrMr9_iRQ0B"
      },
      "execution_count": null,
      "outputs": []
    }
  ]
}